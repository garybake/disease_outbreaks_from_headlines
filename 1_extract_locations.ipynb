{
 "cells": [
  {
   "cell_type": "markdown",
   "metadata": {},
   "source": [
    "# Pull location names from headlines"
   ]
  },
  {
   "cell_type": "code",
   "execution_count": 1,
   "metadata": {},
   "outputs": [],
   "source": [
    "import os\n",
    "import re\n",
    "import unidecode\n",
    "\n",
    "import pandas as pd\n",
    "import geonamescache"
   ]
  },
  {
   "cell_type": "code",
   "execution_count": 2,
   "metadata": {},
   "outputs": [],
   "source": [
    "def clean_text(txt):\n",
    "    return unidecode.unidecode(txt)"
   ]
  },
  {
   "cell_type": "code",
   "execution_count": 3,
   "metadata": {},
   "outputs": [],
   "source": [
    "# Read in data\n",
    "headlines_file = os.path.join(\"data\", \"headlines.txt\")\n",
    "\n",
    "with open(headlines_file) as file:\n",
    "    lines = [clean_text(line.strip()) for line in file]"
   ]
  },
  {
   "cell_type": "code",
   "execution_count": 4,
   "metadata": {},
   "outputs": [
    {
     "data": {
      "text/plain": [
       "650"
      ]
     },
     "execution_count": 4,
     "metadata": {},
     "output_type": "execute_result"
    }
   ],
   "source": [
    "len(lines)"
   ]
  },
  {
   "cell_type": "code",
   "execution_count": 5,
   "metadata": {},
   "outputs": [
    {
     "name": "stdout",
     "output_type": "stream",
     "text": [
      "Zika Outbreak Hits Miami\n",
      "Could Zika Reach New York City?\n",
      "First Case of Zika in Miami Beach\n",
      "Mystery Virus Spreads in Recife, Brazil\n",
      "Dallas man comes down with case of Zika\n",
      "Trinidad confirms first Zika case\n",
      "Zika Concerns are Spreading in Houston\n",
      "Geneve Scientists Battle to Find Cure\n",
      "The CDC in Atlanta is Growing Worried\n",
      "Zika Infested Monkeys in Sao Paulo\n",
      "Brownsville teen contracts Zika virus\n",
      "Mosquito control efforts in St. Louis take new tactics with Zika threat\n",
      "San Juan reports 1st U.S. Zika-related death amid outbreak\n",
      "Flu outbreak in Galveston, Texas\n",
      "Zika alert - Manila now threatened\n",
      "Zika afflicts 7 in Iloilo City\n",
      "New Los Angeles Hairstyle goes Viral\n",
      "Louisiana Zika cases up to 26\n",
      "Orlando volunteers aid Zika research\n",
      "Zika infects pregnant woman in Cebu\n"
     ]
    }
   ],
   "source": [
    "[print(line) for line in lines[:20]];"
   ]
  },
  {
   "cell_type": "markdown",
   "metadata": {},
   "source": [
    "**Potential problems**  \n",
    " - Locations at different levels in the taxonomy - Orlando/Florida/US\n",
    " - Multiple locations in headline\n",
    " - Split names - New York\n",
    " - Case (re.IGNORECASE)\n",
    " - Punctuation\n",
    " - Some aren't virus' i.e. Hairstyle goes Viral\n",
    " - Misspellings, non standard names\n",
    " "
   ]
  },
  {
   "cell_type": "code",
   "execution_count": 6,
   "metadata": {},
   "outputs": [],
   "source": [
    "# Get location name lists\n",
    "gc = geonamescache.GeonamesCache()\n",
    "\n",
    "city_data = gc.get_cities()\n",
    "cities = [city_data[city_id]['name'] for city_id in city_data]\n",
    "cities = list(set(cities))  # ensure unique\n",
    "\n",
    "countries = gc.get_countries()\n",
    "countries = [country for country in gc.get_countries_by_names()]\n",
    "countries = list(set(countries))"
   ]
  },
  {
   "cell_type": "code",
   "execution_count": 7,
   "metadata": {},
   "outputs": [],
   "source": [
    "city_map = {city: clean_text(city) for city in cities}\n",
    "country_map = {country: clean_text(country) for country in countries}"
   ]
  },
  {
   "cell_type": "code",
   "execution_count": 8,
   "metadata": {},
   "outputs": [
    {
     "data": {
      "text/plain": [
       "(252, 23090)"
      ]
     },
     "execution_count": 8,
     "metadata": {},
     "output_type": "execute_result"
    }
   ],
   "source": [
    "len(countries), len(cities)"
   ]
  },
  {
   "cell_type": "code",
   "execution_count": 9,
   "metadata": {},
   "outputs": [],
   "source": [
    "# Get regex\n",
    "city_bar_list = '|'.join(set(city_map.values()))\n",
    "city_regex = re.compile(r'\\b(' + r'{}'.format(city_bar_list) + r')\\b', flags=re.IGNORECASE)\n",
    "\n",
    "country_bar_list = '|'.join(set(country_map.values()))\n",
    "country_regex = re.compile(r'\\b(' + country_bar_list + r')\\b', flags=re.IGNORECASE)"
   ]
  },
  {
   "cell_type": "code",
   "execution_count": 10,
   "metadata": {},
   "outputs": [],
   "source": [
    "def find_location(line, location_regex):\n",
    "    # Return the longest matching word from the regex\n",
    "    try:\n",
    "        match_list = location_regex.findall(line)\n",
    "        current_best = max(match_list, key=len)\n",
    "        if isinstance(current_best, str):\n",
    "            return current_best\n",
    "        else:\n",
    "            return max(list(sum(match_list, ())), key=len)\n",
    "    except:\n",
    "        return None"
   ]
  },
  {
   "cell_type": "code",
   "execution_count": 11,
   "metadata": {},
   "outputs": [
    {
     "data": {
      "text/html": [
       "<div>\n",
       "<style scoped>\n",
       "    .dataframe tbody tr th:only-of-type {\n",
       "        vertical-align: middle;\n",
       "    }\n",
       "\n",
       "    .dataframe tbody tr th {\n",
       "        vertical-align: top;\n",
       "    }\n",
       "\n",
       "    .dataframe thead th {\n",
       "        text-align: right;\n",
       "    }\n",
       "</style>\n",
       "<table border=\"1\" class=\"dataframe\">\n",
       "  <thead>\n",
       "    <tr style=\"text-align: right;\">\n",
       "      <th></th>\n",
       "      <th>headline</th>\n",
       "    </tr>\n",
       "  </thead>\n",
       "  <tbody>\n",
       "    <tr>\n",
       "      <th>0</th>\n",
       "      <td>Zika Outbreak Hits Miami</td>\n",
       "    </tr>\n",
       "    <tr>\n",
       "      <th>1</th>\n",
       "      <td>Could Zika Reach New York City?</td>\n",
       "    </tr>\n",
       "    <tr>\n",
       "      <th>2</th>\n",
       "      <td>First Case of Zika in Miami Beach</td>\n",
       "    </tr>\n",
       "    <tr>\n",
       "      <th>3</th>\n",
       "      <td>Mystery Virus Spreads in Recife, Brazil</td>\n",
       "    </tr>\n",
       "    <tr>\n",
       "      <th>4</th>\n",
       "      <td>Dallas man comes down with case of Zika</td>\n",
       "    </tr>\n",
       "  </tbody>\n",
       "</table>\n",
       "</div>"
      ],
      "text/plain": [
       "                                  headline\n",
       "0                 Zika Outbreak Hits Miami\n",
       "1          Could Zika Reach New York City?\n",
       "2        First Case of Zika in Miami Beach\n",
       "3  Mystery Virus Spreads in Recife, Brazil\n",
       "4  Dallas man comes down with case of Zika"
      ]
     },
     "execution_count": 11,
     "metadata": {},
     "output_type": "execute_result"
    }
   ],
   "source": [
    "# Create a dataframe\n",
    "df = pd.DataFrame(lines, columns=['headline'])\n",
    "df.head()"
   ]
  },
  {
   "cell_type": "code",
   "execution_count": 12,
   "metadata": {},
   "outputs": [],
   "source": [
    "# Add in the city and country columns\n",
    "df['city'] = df.apply(lambda x: find_location(x['headline'], city_regex), axis=1)\n",
    "df['country'] = df.apply(lambda x: find_location(x['headline'], country_regex), axis=1)"
   ]
  },
  {
   "cell_type": "code",
   "execution_count": 13,
   "metadata": {},
   "outputs": [
    {
     "data": {
      "text/html": [
       "<div>\n",
       "<style scoped>\n",
       "    .dataframe tbody tr th:only-of-type {\n",
       "        vertical-align: middle;\n",
       "    }\n",
       "\n",
       "    .dataframe tbody tr th {\n",
       "        vertical-align: top;\n",
       "    }\n",
       "\n",
       "    .dataframe thead th {\n",
       "        text-align: right;\n",
       "    }\n",
       "</style>\n",
       "<table border=\"1\" class=\"dataframe\">\n",
       "  <thead>\n",
       "    <tr style=\"text-align: right;\">\n",
       "      <th></th>\n",
       "      <th>headline</th>\n",
       "      <th>city</th>\n",
       "      <th>country</th>\n",
       "    </tr>\n",
       "  </thead>\n",
       "  <tbody>\n",
       "    <tr>\n",
       "      <th>0</th>\n",
       "      <td>Zika Outbreak Hits Miami</td>\n",
       "      <td>Miami</td>\n",
       "      <td>None</td>\n",
       "    </tr>\n",
       "    <tr>\n",
       "      <th>1</th>\n",
       "      <td>Could Zika Reach New York City?</td>\n",
       "      <td>New York City</td>\n",
       "      <td>None</td>\n",
       "    </tr>\n",
       "    <tr>\n",
       "      <th>2</th>\n",
       "      <td>First Case of Zika in Miami Beach</td>\n",
       "      <td>Miami</td>\n",
       "      <td>None</td>\n",
       "    </tr>\n",
       "    <tr>\n",
       "      <th>3</th>\n",
       "      <td>Mystery Virus Spreads in Recife, Brazil</td>\n",
       "      <td>Recife</td>\n",
       "      <td>Brazil</td>\n",
       "    </tr>\n",
       "    <tr>\n",
       "      <th>4</th>\n",
       "      <td>Dallas man comes down with case of Zika</td>\n",
       "      <td>Dallas</td>\n",
       "      <td>None</td>\n",
       "    </tr>\n",
       "    <tr>\n",
       "      <th>5</th>\n",
       "      <td>Trinidad confirms first Zika case</td>\n",
       "      <td>Trinidad</td>\n",
       "      <td>None</td>\n",
       "    </tr>\n",
       "    <tr>\n",
       "      <th>6</th>\n",
       "      <td>Zika Concerns are Spreading in Houston</td>\n",
       "      <td>Houston</td>\n",
       "      <td>None</td>\n",
       "    </tr>\n",
       "    <tr>\n",
       "      <th>7</th>\n",
       "      <td>Geneve Scientists Battle to Find Cure</td>\n",
       "      <td>Geneve</td>\n",
       "      <td>None</td>\n",
       "    </tr>\n",
       "    <tr>\n",
       "      <th>8</th>\n",
       "      <td>The CDC in Atlanta is Growing Worried</td>\n",
       "      <td>Atlanta</td>\n",
       "      <td>None</td>\n",
       "    </tr>\n",
       "    <tr>\n",
       "      <th>9</th>\n",
       "      <td>Zika Infested Monkeys in Sao Paulo</td>\n",
       "      <td>Sao Paulo</td>\n",
       "      <td>None</td>\n",
       "    </tr>\n",
       "    <tr>\n",
       "      <th>10</th>\n",
       "      <td>Brownsville teen contracts Zika virus</td>\n",
       "      <td>Brownsville</td>\n",
       "      <td>None</td>\n",
       "    </tr>\n",
       "    <tr>\n",
       "      <th>11</th>\n",
       "      <td>Mosquito control efforts in St. Louis take new...</td>\n",
       "      <td>St. Louis</td>\n",
       "      <td>None</td>\n",
       "    </tr>\n",
       "    <tr>\n",
       "      <th>12</th>\n",
       "      <td>San Juan reports 1st U.S. Zika-related death a...</td>\n",
       "      <td>San Juan</td>\n",
       "      <td>None</td>\n",
       "    </tr>\n",
       "    <tr>\n",
       "      <th>13</th>\n",
       "      <td>Flu outbreak in Galveston, Texas</td>\n",
       "      <td>Galveston</td>\n",
       "      <td>None</td>\n",
       "    </tr>\n",
       "    <tr>\n",
       "      <th>14</th>\n",
       "      <td>Zika alert - Manila now threatened</td>\n",
       "      <td>Manila</td>\n",
       "      <td>None</td>\n",
       "    </tr>\n",
       "    <tr>\n",
       "      <th>15</th>\n",
       "      <td>Zika afflicts 7 in Iloilo City</td>\n",
       "      <td>Iloilo</td>\n",
       "      <td>None</td>\n",
       "    </tr>\n",
       "    <tr>\n",
       "      <th>16</th>\n",
       "      <td>New Los Angeles Hairstyle goes Viral</td>\n",
       "      <td>Los Angeles</td>\n",
       "      <td>None</td>\n",
       "    </tr>\n",
       "    <tr>\n",
       "      <th>17</th>\n",
       "      <td>Louisiana Zika cases up to 26</td>\n",
       "      <td>None</td>\n",
       "      <td>None</td>\n",
       "    </tr>\n",
       "    <tr>\n",
       "      <th>18</th>\n",
       "      <td>Orlando volunteers aid Zika research</td>\n",
       "      <td>Orlando</td>\n",
       "      <td>None</td>\n",
       "    </tr>\n",
       "    <tr>\n",
       "      <th>19</th>\n",
       "      <td>Zika infects pregnant woman in Cebu</td>\n",
       "      <td>None</td>\n",
       "      <td>None</td>\n",
       "    </tr>\n",
       "  </tbody>\n",
       "</table>\n",
       "</div>"
      ],
      "text/plain": [
       "                                             headline           city country\n",
       "0                            Zika Outbreak Hits Miami          Miami    None\n",
       "1                     Could Zika Reach New York City?  New York City    None\n",
       "2                   First Case of Zika in Miami Beach          Miami    None\n",
       "3             Mystery Virus Spreads in Recife, Brazil         Recife  Brazil\n",
       "4             Dallas man comes down with case of Zika         Dallas    None\n",
       "5                   Trinidad confirms first Zika case       Trinidad    None\n",
       "6              Zika Concerns are Spreading in Houston        Houston    None\n",
       "7               Geneve Scientists Battle to Find Cure         Geneve    None\n",
       "8               The CDC in Atlanta is Growing Worried        Atlanta    None\n",
       "9                  Zika Infested Monkeys in Sao Paulo      Sao Paulo    None\n",
       "10              Brownsville teen contracts Zika virus    Brownsville    None\n",
       "11  Mosquito control efforts in St. Louis take new...      St. Louis    None\n",
       "12  San Juan reports 1st U.S. Zika-related death a...       San Juan    None\n",
       "13                   Flu outbreak in Galveston, Texas      Galveston    None\n",
       "14                 Zika alert - Manila now threatened         Manila    None\n",
       "15                     Zika afflicts 7 in Iloilo City         Iloilo    None\n",
       "16               New Los Angeles Hairstyle goes Viral    Los Angeles    None\n",
       "17                      Louisiana Zika cases up to 26           None    None\n",
       "18               Orlando volunteers aid Zika research        Orlando    None\n",
       "19                Zika infects pregnant woman in Cebu           None    None"
      ]
     },
     "execution_count": 13,
     "metadata": {},
     "output_type": "execute_result"
    }
   ],
   "source": [
    "df.head(20)"
   ]
  },
  {
   "cell_type": "code",
   "execution_count": 15,
   "metadata": {},
   "outputs": [],
   "source": [
    "# output_file = os.path.join(\"data\", \"headline_locations.parquet\")\n",
    "# df.to_parquet(output_file)"
   ]
  },
  {
   "cell_type": "code",
   "execution_count": 17,
   "metadata": {},
   "outputs": [],
   "source": [
    "# import pickle\n",
    "# pickle.dump(city_map, open(\"data/city_map.pkl\", \"wb\"))\n",
    "# pickle.dump(country_map, open(\"data/country_map.pkl\", \"wb\"))"
   ]
  }
 ],
 "metadata": {
  "kernelspec": {
   "display_name": "Python 3",
   "language": "python",
   "name": "python3"
  },
  "language_info": {
   "codemirror_mode": {
    "name": "ipython",
    "version": 3
   },
   "file_extension": ".py",
   "mimetype": "text/x-python",
   "name": "python",
   "nbconvert_exporter": "python",
   "pygments_lexer": "ipython3",
   "version": "3.6.9"
  }
 },
 "nbformat": 4,
 "nbformat_minor": 4
}
