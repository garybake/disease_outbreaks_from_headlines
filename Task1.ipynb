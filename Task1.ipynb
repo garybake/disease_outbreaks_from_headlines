{
 "cells": [
  {
   "cell_type": "markdown",
   "metadata": {},
   "source": [
    "# Pull location names from headlines"
   ]
  },
  {
   "cell_type": "code",
   "execution_count": 28,
   "metadata": {},
   "outputs": [],
   "source": [
    "import os\n",
    "import re\n",
    "import unidecode\n",
    "\n",
    "import pandas as pd\n",
    "import geonamescache"
   ]
  },
  {
   "cell_type": "code",
   "execution_count": 29,
   "metadata": {},
   "outputs": [],
   "source": [
    "def clean_text(txt):\n",
    "    return unidecode.unidecode(txt).lower()"
   ]
  },
  {
   "cell_type": "code",
   "execution_count": 30,
   "metadata": {},
   "outputs": [],
   "source": [
    "# Read in data\n",
    "headlines_file = os.path.join(\"data\", \"headlines.txt\")\n",
    "\n",
    "with open(headlines_file) as file:\n",
    "    lines = [clean_text(line.strip()) for line in file]"
   ]
  },
  {
   "cell_type": "code",
   "execution_count": 31,
   "metadata": {},
   "outputs": [
    {
     "data": {
      "text/plain": [
       "650"
      ]
     },
     "execution_count": 31,
     "metadata": {},
     "output_type": "execute_result"
    }
   ],
   "source": [
    "len(lines)"
   ]
  },
  {
   "cell_type": "code",
   "execution_count": 32,
   "metadata": {},
   "outputs": [
    {
     "name": "stdout",
     "output_type": "stream",
     "text": [
      "zika outbreak hits miami\n",
      "could zika reach new york city?\n",
      "first case of zika in miami beach\n",
      "mystery virus spreads in recife, brazil\n",
      "dallas man comes down with case of zika\n",
      "trinidad confirms first zika case\n",
      "zika concerns are spreading in houston\n",
      "geneve scientists battle to find cure\n",
      "the cdc in atlanta is growing worried\n",
      "zika infested monkeys in sao paulo\n",
      "brownsville teen contracts zika virus\n",
      "mosquito control efforts in st. louis take new tactics with zika threat\n",
      "san juan reports 1st u.s. zika-related death amid outbreak\n",
      "flu outbreak in galveston, texas\n",
      "zika alert - manila now threatened\n",
      "zika afflicts 7 in iloilo city\n",
      "new los angeles hairstyle goes viral\n",
      "louisiana zika cases up to 26\n",
      "orlando volunteers aid zika research\n",
      "zika infects pregnant woman in cebu\n"
     ]
    }
   ],
   "source": [
    "[print(line) for line in lines[:20]];"
   ]
  },
  {
   "cell_type": "markdown",
   "metadata": {},
   "source": [
    "**Potential problems**  \n",
    " - Locations at different levels in the taxonomy - Orlando/Florida/US\n",
    " - Multiple locations in headline\n",
    " - Split names - New York\n",
    " - Case (re.IGNORECASE)\n",
    " - Punctuation\n",
    " - Some aren't virus' i.e. Hairstyle goes Viral\n",
    " - Misspellings, non standard names\n",
    " "
   ]
  },
  {
   "cell_type": "code",
   "execution_count": 33,
   "metadata": {},
   "outputs": [],
   "source": [
    "# Get location name lists\n",
    "gc = geonamescache.GeonamesCache()\n",
    "\n",
    "city_data = gc.get_cities()\n",
    "cities = [clean_location_name(city_data[city_id]['name']) for city_id in city_data]\n",
    "cities = list(set(cities))  # ensure unique\n",
    "\n",
    "countries = gc.get_countries()\n",
    "countries = [clean_location_name(country) for country in gc.get_countries_by_names()]\n",
    "countries = list(set(countries))"
   ]
  },
  {
   "cell_type": "code",
   "execution_count": 34,
   "metadata": {},
   "outputs": [
    {
     "data": {
      "text/plain": [
       "(252, 23022)"
      ]
     },
     "execution_count": 34,
     "metadata": {},
     "output_type": "execute_result"
    }
   ],
   "source": [
    "len(countries), len(cities)"
   ]
  },
  {
   "cell_type": "code",
   "execution_count": 35,
   "metadata": {},
   "outputs": [],
   "source": [
    "# Get regex\n",
    "city_list = '|'.join(cities)\n",
    "city_regex = re.compile(r'\\b(' + r'{}'.format(city_list) + r')\\b', flags=re.IGNORECASE)\n",
    "\n",
    "country_list = '|'.join(countries)\n",
    "country_regex = re.compile(r'\\b(' + country_list + r')\\b', flags=re.IGNORECASE)"
   ]
  },
  {
   "cell_type": "code",
   "execution_count": 36,
   "metadata": {},
   "outputs": [],
   "source": [
    "def find_location(line, location_regex):\n",
    "    # Return the longest matching word from the regex\n",
    "    try:\n",
    "        match_list = location_regex.findall(line)\n",
    "        current_best = max(match_list, key=len)\n",
    "        if isinstance(current_best, str):\n",
    "            return current_best\n",
    "        else:\n",
    "            return max(list(sum(match_list, ())), key=len)\n",
    "    except:\n",
    "        return None"
   ]
  },
  {
   "cell_type": "code",
   "execution_count": 37,
   "metadata": {},
   "outputs": [
    {
     "data": {
      "text/html": [
       "<div>\n",
       "<style scoped>\n",
       "    .dataframe tbody tr th:only-of-type {\n",
       "        vertical-align: middle;\n",
       "    }\n",
       "\n",
       "    .dataframe tbody tr th {\n",
       "        vertical-align: top;\n",
       "    }\n",
       "\n",
       "    .dataframe thead th {\n",
       "        text-align: right;\n",
       "    }\n",
       "</style>\n",
       "<table border=\"1\" class=\"dataframe\">\n",
       "  <thead>\n",
       "    <tr style=\"text-align: right;\">\n",
       "      <th></th>\n",
       "      <th>headline</th>\n",
       "    </tr>\n",
       "  </thead>\n",
       "  <tbody>\n",
       "    <tr>\n",
       "      <th>0</th>\n",
       "      <td>zika outbreak hits miami</td>\n",
       "    </tr>\n",
       "    <tr>\n",
       "      <th>1</th>\n",
       "      <td>could zika reach new york city?</td>\n",
       "    </tr>\n",
       "    <tr>\n",
       "      <th>2</th>\n",
       "      <td>first case of zika in miami beach</td>\n",
       "    </tr>\n",
       "    <tr>\n",
       "      <th>3</th>\n",
       "      <td>mystery virus spreads in recife, brazil</td>\n",
       "    </tr>\n",
       "    <tr>\n",
       "      <th>4</th>\n",
       "      <td>dallas man comes down with case of zika</td>\n",
       "    </tr>\n",
       "  </tbody>\n",
       "</table>\n",
       "</div>"
      ],
      "text/plain": [
       "                                  headline\n",
       "0                 zika outbreak hits miami\n",
       "1          could zika reach new york city?\n",
       "2        first case of zika in miami beach\n",
       "3  mystery virus spreads in recife, brazil\n",
       "4  dallas man comes down with case of zika"
      ]
     },
     "execution_count": 37,
     "metadata": {},
     "output_type": "execute_result"
    }
   ],
   "source": [
    "# Create a dataframe\n",
    "df = pd.DataFrame(lines, columns=['headline'])\n",
    "df.head()"
   ]
  },
  {
   "cell_type": "code",
   "execution_count": 38,
   "metadata": {},
   "outputs": [],
   "source": [
    "# Add in the city and country columns\n",
    "df['city'] = df.apply(lambda x: find_location(x['headline'], city_regex), axis=1)\n",
    "df['country'] = df.apply(lambda x: find_location(x['headline'], country_regex), axis=1)"
   ]
  },
  {
   "cell_type": "code",
   "execution_count": 39,
   "metadata": {},
   "outputs": [
    {
     "data": {
      "text/html": [
       "<div>\n",
       "<style scoped>\n",
       "    .dataframe tbody tr th:only-of-type {\n",
       "        vertical-align: middle;\n",
       "    }\n",
       "\n",
       "    .dataframe tbody tr th {\n",
       "        vertical-align: top;\n",
       "    }\n",
       "\n",
       "    .dataframe thead th {\n",
       "        text-align: right;\n",
       "    }\n",
       "</style>\n",
       "<table border=\"1\" class=\"dataframe\">\n",
       "  <thead>\n",
       "    <tr style=\"text-align: right;\">\n",
       "      <th></th>\n",
       "      <th>headline</th>\n",
       "      <th>city</th>\n",
       "      <th>country</th>\n",
       "    </tr>\n",
       "  </thead>\n",
       "  <tbody>\n",
       "    <tr>\n",
       "      <th>0</th>\n",
       "      <td>zika outbreak hits miami</td>\n",
       "      <td>miami</td>\n",
       "      <td>None</td>\n",
       "    </tr>\n",
       "    <tr>\n",
       "      <th>1</th>\n",
       "      <td>could zika reach new york city?</td>\n",
       "      <td>new york city</td>\n",
       "      <td>None</td>\n",
       "    </tr>\n",
       "    <tr>\n",
       "      <th>2</th>\n",
       "      <td>first case of zika in miami beach</td>\n",
       "      <td>miami beach</td>\n",
       "      <td>None</td>\n",
       "    </tr>\n",
       "    <tr>\n",
       "      <th>3</th>\n",
       "      <td>mystery virus spreads in recife, brazil</td>\n",
       "      <td>recife</td>\n",
       "      <td>brazil</td>\n",
       "    </tr>\n",
       "    <tr>\n",
       "      <th>4</th>\n",
       "      <td>dallas man comes down with case of zika</td>\n",
       "      <td>dallas</td>\n",
       "      <td>None</td>\n",
       "    </tr>\n",
       "    <tr>\n",
       "      <th>5</th>\n",
       "      <td>trinidad confirms first zika case</td>\n",
       "      <td>trinidad</td>\n",
       "      <td>None</td>\n",
       "    </tr>\n",
       "    <tr>\n",
       "      <th>6</th>\n",
       "      <td>zika concerns are spreading in houston</td>\n",
       "      <td>houston</td>\n",
       "      <td>None</td>\n",
       "    </tr>\n",
       "    <tr>\n",
       "      <th>7</th>\n",
       "      <td>geneve scientists battle to find cure</td>\n",
       "      <td>geneve</td>\n",
       "      <td>None</td>\n",
       "    </tr>\n",
       "    <tr>\n",
       "      <th>8</th>\n",
       "      <td>the cdc in atlanta is growing worried</td>\n",
       "      <td>atlanta</td>\n",
       "      <td>None</td>\n",
       "    </tr>\n",
       "    <tr>\n",
       "      <th>9</th>\n",
       "      <td>zika infested monkeys in sao paulo</td>\n",
       "      <td>sao paulo</td>\n",
       "      <td>None</td>\n",
       "    </tr>\n",
       "    <tr>\n",
       "      <th>10</th>\n",
       "      <td>brownsville teen contracts zika virus</td>\n",
       "      <td>brownsville</td>\n",
       "      <td>None</td>\n",
       "    </tr>\n",
       "    <tr>\n",
       "      <th>11</th>\n",
       "      <td>mosquito control efforts in st. louis take new...</td>\n",
       "      <td>st. louis</td>\n",
       "      <td>None</td>\n",
       "    </tr>\n",
       "    <tr>\n",
       "      <th>12</th>\n",
       "      <td>san juan reports 1st u.s. zika-related death a...</td>\n",
       "      <td>san juan</td>\n",
       "      <td>None</td>\n",
       "    </tr>\n",
       "    <tr>\n",
       "      <th>13</th>\n",
       "      <td>flu outbreak in galveston, texas</td>\n",
       "      <td>galveston</td>\n",
       "      <td>None</td>\n",
       "    </tr>\n",
       "    <tr>\n",
       "      <th>14</th>\n",
       "      <td>zika alert - manila now threatened</td>\n",
       "      <td>manila</td>\n",
       "      <td>None</td>\n",
       "    </tr>\n",
       "    <tr>\n",
       "      <th>15</th>\n",
       "      <td>zika afflicts 7 in iloilo city</td>\n",
       "      <td>iloilo</td>\n",
       "      <td>None</td>\n",
       "    </tr>\n",
       "    <tr>\n",
       "      <th>16</th>\n",
       "      <td>new los angeles hairstyle goes viral</td>\n",
       "      <td>los angeles</td>\n",
       "      <td>None</td>\n",
       "    </tr>\n",
       "    <tr>\n",
       "      <th>17</th>\n",
       "      <td>louisiana zika cases up to 26</td>\n",
       "      <td>None</td>\n",
       "      <td>None</td>\n",
       "    </tr>\n",
       "    <tr>\n",
       "      <th>18</th>\n",
       "      <td>orlando volunteers aid zika research</td>\n",
       "      <td>orlando</td>\n",
       "      <td>None</td>\n",
       "    </tr>\n",
       "    <tr>\n",
       "      <th>19</th>\n",
       "      <td>zika infects pregnant woman in cebu</td>\n",
       "      <td>None</td>\n",
       "      <td>None</td>\n",
       "    </tr>\n",
       "  </tbody>\n",
       "</table>\n",
       "</div>"
      ],
      "text/plain": [
       "                                             headline           city country\n",
       "0                            zika outbreak hits miami          miami    None\n",
       "1                     could zika reach new york city?  new york city    None\n",
       "2                   first case of zika in miami beach    miami beach    None\n",
       "3             mystery virus spreads in recife, brazil         recife  brazil\n",
       "4             dallas man comes down with case of zika         dallas    None\n",
       "5                   trinidad confirms first zika case       trinidad    None\n",
       "6              zika concerns are spreading in houston        houston    None\n",
       "7               geneve scientists battle to find cure         geneve    None\n",
       "8               the cdc in atlanta is growing worried        atlanta    None\n",
       "9                  zika infested monkeys in sao paulo      sao paulo    None\n",
       "10              brownsville teen contracts zika virus    brownsville    None\n",
       "11  mosquito control efforts in st. louis take new...      st. louis    None\n",
       "12  san juan reports 1st u.s. zika-related death a...       san juan    None\n",
       "13                   flu outbreak in galveston, texas      galveston    None\n",
       "14                 zika alert - manila now threatened         manila    None\n",
       "15                     zika afflicts 7 in iloilo city         iloilo    None\n",
       "16               new los angeles hairstyle goes viral    los angeles    None\n",
       "17                      louisiana zika cases up to 26           None    None\n",
       "18               orlando volunteers aid zika research        orlando    None\n",
       "19                zika infects pregnant woman in cebu           None    None"
      ]
     },
     "execution_count": 39,
     "metadata": {},
     "output_type": "execute_result"
    }
   ],
   "source": [
    "df.head(20)"
   ]
  },
  {
   "cell_type": "code",
   "execution_count": null,
   "metadata": {},
   "outputs": [],
   "source": []
  }
 ],
 "metadata": {
  "kernelspec": {
   "display_name": "Python 3",
   "language": "python",
   "name": "python3"
  },
  "language_info": {
   "codemirror_mode": {
    "name": "ipython",
    "version": 3
   },
   "file_extension": ".py",
   "mimetype": "text/x-python",
   "name": "python",
   "nbconvert_exporter": "python",
   "pygments_lexer": "ipython3",
   "version": "3.6.9"
  }
 },
 "nbformat": 4,
 "nbformat_minor": 4
}
